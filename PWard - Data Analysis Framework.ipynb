{
 "cells": [
  {
   "cell_type": "markdown",
   "metadata": {},
   "source": [
    "# Data Analysis Framework\n",
    "\n",
    "Patrick Ward\n",
    "\n",
    "12/14/2019"
   ]
  },
  {
   "cell_type": "markdown",
   "metadata": {},
   "source": [
    "## Data Analysis Framework\n",
    "\n",
    "> The objective is to provide an easy to follow framework for analysis that allows the analyst or PhD student to walk through their entire approach in a step-by-step manner with their colleagues or PhD supervisors.\n",
    "\n",
    "> In each of the 6-steps, the researcher is to provide their code, outputs for the code, and any comments/thoughts that may help the reader interpret the approach that was taken."
   ]
  },
  {
   "cell_type": "markdown",
   "metadata": {},
   "source": [
    "## Step 1: Research Question/Problem Statement\n",
    "\n",
    "1. Research Question/Problem Statement #1\n",
    "\n",
    "2. Research Question/Problem Statement #2\n",
    "\n",
    "#### NOTES:\n",
    "\n",
    "Provide any additional thoughts around the research question\n",
    "\n",
    "- Hypothesis\n",
    "- Potential issues or challenges\n",
    "- Potential limitations\n",
    "- Etc."
   ]
  },
  {
   "cell_type": "markdown",
   "metadata": {},
   "source": [
    "## Step 2: Data Collection/Measurement Strategy\n",
    "\n",
    "1. What type of data is required\n",
    "\n",
    "- Data sources (database, websites, data collection, etc.)\n",
    "- Structure of the data\n",
    "- Data issues (missing data, messy data, etc.)\n",
    "\n",
    "2. Collection/Measurement\n",
    "\n",
    "- If data needs to be collected, what are the measurements being taken (clearly define the procedures and standardization)?\n",
    "- Are the measurements valid and reliable (is there potentially a need to add a research step here and conducting your own validity/reliability study before proceeding)?\n",
    "\n",
    "3. Data Cleaning\n",
    "\n",
    "- What pre-processing steps were taken?\n",
    "- Clearly walk through the data cleanning process.\n",
    "- Is any data missing, if so how much?\n",
    "- Describe any imputation process for missing data.\n",
    "- If any data was removed prior to analysis explain why.\n"
   ]
  },
  {
   "cell_type": "code",
   "execution_count": null,
   "metadata": {},
   "outputs": [],
   "source": []
  }
 ],
 "metadata": {
  "kernelspec": {
   "display_name": "Python 3",
   "language": "python",
   "name": "python3"
  },
  "language_info": {
   "codemirror_mode": {
    "name": "ipython",
    "version": 3
   },
   "file_extension": ".py",
   "mimetype": "text/x-python",
   "name": "python",
   "nbconvert_exporter": "python",
   "pygments_lexer": "ipython3",
   "version": "3.6.8"
  }
 },
 "nbformat": 4,
 "nbformat_minor": 2
}
